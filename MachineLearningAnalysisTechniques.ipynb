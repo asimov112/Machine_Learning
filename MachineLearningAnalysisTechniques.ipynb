{
 "cells": [
  {
   "cell_type": "code",
   "execution_count": null,
   "metadata": {},
   "outputs": [],
   "source": [
    "# Cell 1: Converting categorical data to integer features\n",
    "from sklearn.feature_extraction import DictVectorizer\n",
    "onehot_encoder = DictVectorizer()\n",
    "\n",
    "X = [\n",
    "    {\"city\":\"New York\"},\n",
    "    {\"city\":\"San Francisco\"},\n",
    "    {\"city\":\"Chapel Hill\"},\n",
    "    {\"city\":\"Los Angeles\"}\n",
    "]\n",
    "\n",
    "print(onehot_encoder.fit_transform(X).toarray())"
   ]
  },
  {
   "cell_type": "code",
   "execution_count": null,
   "metadata": {},
   "outputs": [],
   "source": [
    "# Cell 2: Bag-of-words Model\n",
    "from sklearn.feature_extraction.text import CountVectorizer\n",
    "from sklearn.metrics import euclidean_distances\n",
    "vectorizer = CountVectorizer()\n",
    "\n",
    "corpus = [\n",
    "    'UNC played Duke in basketball',\n",
    "    'Duke lost the basketball game'\n",
    "]\n",
    "\n",
    "print(vectorizer.fit_transform(corpus).todense())\n",
    "print(vectorizer.vocabulary_)\n",
    "\n",
    "corpus.append(\"I ate a sandwich\")\n",
    "print(vectorizer.fit_transform(corpus).todense())\n",
    "print(vectorizer.vocabulary_)\n",
    "\n",
    "X = vectorizer.fit_transform(corpus).todense()\n",
    "print(\"Distance between 1st and 2nd documents:\", euclidean_distances(X[0],X[1]))\n",
    "print(\"Distance between 1st and 3rd documents:\", euclidean_distances(X[0],X[2]))\n",
    "print(\"Distance between 2nd and 3rd documents:\", euclidean_distances(X[1],X[2]))"
   ]
  },
  {
   "cell_type": "code",
   "execution_count": null,
   "metadata": {},
   "outputs": [],
   "source": [
    "# Cell 3: Stop word filtering\n",
    "from sklearn.feature_extraction.text import CountVectorizer\n",
    "\n",
    "corpus = [\n",
    "    'UNC played Duke in basketball',\n",
    "    'Duke lost the basketball game',\n",
    "    'I ate a sandwich'\n",
    "]\n",
    "\n",
    "vectorizer = CountVectorizer(stop_words=\"english\")\n",
    "print(vectorizer.fit_transform(corpus).todense())\n",
    "print(vectorizer.vocabulary_)\n"
   ]
  }
 ],
 "metadata": {
  "kernelspec": {
   "display_name": "Python 3.10.7 64-bit (microsoft store)",
   "language": "python",
   "name": "python3"
  },
  "language_info": {
   "codemirror_mode": {
    "name": "ipython",
    "version": 3
   },
   "file_extension": ".py",
   "mimetype": "text/x-python",
   "name": "python",
   "nbconvert_exporter": "python",
   "pygments_lexer": "ipython3",
   "version": "3.10.7"
  },
  "orig_nbformat": 4,
  "vscode": {
   "interpreter": {
    "hash": "7959011f7c65b6277518dac78edd11ca4ca331adbf641f303d55a67ad931e17d"
   }
  }
 },
 "nbformat": 4,
 "nbformat_minor": 2
}
